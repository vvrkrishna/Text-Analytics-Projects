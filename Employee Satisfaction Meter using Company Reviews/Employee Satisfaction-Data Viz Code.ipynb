{
 "cells": [
  {
   "cell_type": "code",
   "execution_count": null,
   "metadata": {},
   "outputs": [],
   "source": [
    "#Necessary Libraries for plotting charts\n",
    "#plotly\n",
    "import plotly.express as px\n",
    "import plotly.graph_objs as go\n",
    "import plotly.offline as py\n",
    "py.init_notebook_mode(connected=True)"
   ]
  },
  {
   "cell_type": "code",
   "execution_count": null,
   "metadata": {},
   "outputs": [],
   "source": [
    "#Function to return pie plot to display ratings distribution in reviews of a company\n",
    "def pieplotratingsdistribution(df,CompanyName):\n",
    "    labels = df[df['CompanyName']==CompanyName]['OverallRating'].value_counts().index\n",
    "    values = df[df['CompanyName']==CompanyName]['OverallRating'].value_counts().values\n",
    "    trace = go.Pie(labels=labels, values=values)\n",
    "    py.iplot([trace], filename='basic_pie_chart')"
   ]
  },
  {
   "cell_type": "code",
   "execution_count": null,
   "metadata": {},
   "outputs": [],
   "source": [
    "#Code to plot Stacked bar chart\n",
    "def stackedbarplot(df):\n",
    "    company_names=list(df['CompanyName'].unique())\n",
    "    Employee_categories=list(df['AuthorEmploymentStatus'].unique())\n",
    "    count_list=[]\n",
    "    for j in Employee_categories:\n",
    "        for i in company_names:\n",
    "            count_list.append(df[(df['CompanyName']==i)&(df['AuthorEmploymentStatus']==j)].shape[0])\n",
    "    temp=[]\n",
    "    for i in range(0, len(count_list),len(company_names)):\n",
    "        temp.append(list(count_list[i:i + len(company_names)]))\n",
    "    data=[] \n",
    "    k=0\n",
    "    for i in Employee_categories:\n",
    "        data.append(go.Bar(name=i,x=company_names,y=temp[k]))\n",
    "        k=k+1\n",
    "    fig = go.Figure(data=data)\n",
    "# Change the bar mode\n",
    "    fig.update_layout(barmode='stack')\n",
    "    fig.show()"
   ]
  },
  {
   "cell_type": "code",
   "execution_count": null,
   "metadata": {},
   "outputs": [],
   "source": [
    "#Plotting Word Count distribution bar plot\n",
    "def plotwordcountdistribution(df,reviewtype):\n",
    "    #reviewtyepe is 'Pros_Modified_Text','Cons_Modified_Text' in our case\n",
    "    def comment_len(x):\n",
    "        if type(x) is str:\n",
    "            return len(x.split())\n",
    "        else:\n",
    "            return 0\n",
    "    df['review_len'] = df[reviewtype].apply(comment_len)\n",
    "    length_scale=[0,5,15,25,50,75,100,200,10000]#Change length scale according to your requirement\n",
    "    out = pd.cut(df['review_len'],length_scale)\n",
    "    ax = out.value_counts(sort=False).plot.bar(rot=0, color=\"b\", figsize=(12,8))\n",
    "    for p in ax.patches:\n",
    "        ax.annotate(str(p.get_height()), (p.get_x() * 1.040, p.get_height() * 1.015))\n",
    "    plt.show()\n",
    "    df.drop(columns=['review_len'])"
   ]
  },
  {
   "cell_type": "code",
   "execution_count": null,
   "metadata": {},
   "outputs": [],
   "source": [
    "#Sentiment score anamolies\n",
    "def sentianamolybarplot(df):\n",
    "    polarity_scale=[0.0,0.2,0.4,0.6,0.8,1]\n",
    "    #'Review_polarity' is column name of sentiment score calculated for whole review.\n",
    "    df2=df[(df['Review_polarity']>0)&(df['OverallRating']<=3)]\n",
    "    out = pd.cut(df2['Review_polarity'],polarity_scale)\n",
    "    ax = out.value_counts(sort=False).plot.bar(rot=0, color=\"b\", figsize=(12,8))\n",
    "    for p in ax.patches:\n",
    "        ax.annotate(str(p.get_height()), (p.get_x() * 1.040, p.get_height() * 1.015))\n",
    "    plt.show()"
   ]
  },
  {
   "cell_type": "code",
   "execution_count": null,
   "metadata": {},
   "outputs": [],
   "source": [
    "#Distribution of polarity score\n",
    "def polarityscorehistplot(df,companyname):\n",
    "    df['Review_polarity'] = df['Pros'].map(lambda text: TextBlob(text).sentiment.polarity)\n",
    "    fig = px.histogram(df, x=\"'Review_polarity'\")\n",
    "    fig.update_layout(title_text='Distribution of sentiment polarity in Reviews', template=\"plotly_white\")\n",
    "    fig.show()"
   ]
  },
  {
   "cell_type": "code",
   "execution_count": null,
   "metadata": {},
   "outputs": [],
   "source": [
    "#Bar plot of top n bi-grams\n",
    "def get_top_n_bigram(corpus, n=None):\n",
    "    vec = CountVectorizer(ngram_range=(2, 2), stop_words='english').fit(corpus)\n",
    "    bag_of_words = vec.transform(corpus)\n",
    "    sum_words = bag_of_words.sum(axis=0) \n",
    "    words_freq = [(word, sum_words[0, idx]) for word, idx in vec.vocabulary_.items()]\n",
    "    words_freq =sorted(words_freq, key = lambda x: x[1], reverse=True)\n",
    "    return words_freq[:n]\n",
    "def bar_plot_topbigrams(CompanyName,ReviewType):\n",
    "    common_words = get_top_n_bigram(df[df['CompanyName']==CompanyName][ReviewType], 20)\n",
    "    df1 = pd.DataFrame(common_words, columns = ['word' , 'count'])\n",
    "    fig = px.bar(df1, x='word', y='count')\n",
    "    fig.update_layout(title_text=ReviewType[9:13]+' Review Bi-gram count top 20 for '+CompanyName, template=\"plotly_white\")\n",
    "    return fig"
   ]
  },
  {
   "cell_type": "code",
   "execution_count": null,
   "metadata": {},
   "outputs": [],
   "source": [
    "#Bar Plot of top n trigrams\n",
    "def get_top_n_trigram(corpus, n=None):\n",
    "    vec = CountVectorizer(ngram_range=(3, 3), stop_words='english').fit(corpus)\n",
    "    bag_of_words = vec.transform(corpus)\n",
    "    sum_words = bag_of_words.sum(axis=0) \n",
    "    words_freq = [(word, sum_words[0, idx]) for word, idx in vec.vocabulary_.items()]\n",
    "    words_freq =sorted(words_freq, key = lambda x: x[1], reverse=True)\n",
    "    return words_freq[:n]\n",
    "def bar_plot_toptrigrams(CompanyName,ReviewType):\n",
    "    common_words = get_top_n_trigram(df[df['CompanyName']==CompanyName][ReviewType], 20)\n",
    "    df1 = pd.DataFrame(common_words, columns = ['word' , 'count'])\n",
    "    fig = px.bar(df1, x='word', y='count')\n",
    "    fig.update_layout(title_text=ReviewType[9:13]+' Review Tri-gram count top 20 for '+CompanyName, template=\"plotly_white\")\n",
    "    return fig"
   ]
  }
 ],
 "metadata": {
  "kernelspec": {
   "display_name": "Python 3",
   "language": "python",
   "name": "python3"
  },
  "language_info": {
   "codemirror_mode": {
    "name": "ipython",
    "version": 3
   },
   "file_extension": ".py",
   "mimetype": "text/x-python",
   "name": "python",
   "nbconvert_exporter": "python",
   "pygments_lexer": "ipython3",
   "version": "3.7.4"
  }
 },
 "nbformat": 4,
 "nbformat_minor": 2
}
